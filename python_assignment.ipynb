{
 "cells": [
  {
   "cell_type": "markdown",
   "id": "49e0e250-2c83-4cd3-8579-4f69f363ce89",
   "metadata": {},
   "source": [
    "Q1. Write all the conventions being followed while declaring a variable."
   ]
  },
  {
   "cell_type": "raw",
   "id": "051211b5-11fc-4321-95c2-bd31a7797a93",
   "metadata": {},
   "source": [
    "Start with a letter or underscore: Variable names must begin with either a lowercase or uppercase letter (a-z, A-Z) or the underscore character (_). \n",
    "Numbers cannot be the first character.\n",
    "Alphanumeric characters and underscores: Variable names can consist of letters (a-z, A-Z), numbers (0-9), and underscores (_).\n",
    "Case-sensitivity: Python distinguishes between uppercase and lowercase letters. \n",
    "For example, sudhir and Sudhir are considered different variables.\n",
    "Reserved keywords: Variable names cannot be the same as Python's built-in keywords (e.g., if, for, while, def, etc.). "
   ]
  },
  {
   "cell_type": "markdown",
   "id": "caaa06f8-c2ac-484e-a9bd-11b8b8cd055d",
   "metadata": {},
   "source": [
    "Q2. What will happen if we declare a restricted keyword as a variable?"
   ]
  },
  {
   "cell_type": "raw",
   "id": "e9688d59-120a-41f3-a5b0-26fd19ca6c23",
   "metadata": {},
   "source": [
    "declaring a restricted keyword (also known as a reserved keyword) as a variable will result in a SyntaxError."
   ]
  },
  {
   "cell_type": "markdown",
   "id": "2f7645e7-de9c-4768-ba6a-4b390fa4770f",
   "metadata": {},
   "source": [
    "Q3. Can we actually declare a string as a variable name?"
   ]
  },
  {
   "cell_type": "raw",
   "id": "e5d47da8-e00f-49de-a223-51ba7b08da56",
   "metadata": {},
   "source": [
    "No, we cannot directly declare a string as a variable name in Python."
   ]
  },
  {
   "cell_type": "markdown",
   "id": "3921a2fc-e352-48be-9b64-b779caa99b07",
   "metadata": {},
   "source": [
    "Q4. Is it possible for us to declare “_” as a variable? If so, then write an example of it."
   ]
  },
  {
   "cell_type": "raw",
   "id": "1098a453-fa49-4919-88d1-f4bd0e6e58c7",
   "metadata": {},
   "source": [
    "yes it is possible for us to declare \"_\" as a variable"
   ]
  },
  {
   "cell_type": "code",
   "execution_count": 5,
   "id": "a40818ab-a9cf-47d9-becc-d89aef9d379c",
   "metadata": {},
   "outputs": [
    {
     "name": "stdout",
     "output_type": "stream",
     "text": [
      "10\n"
     ]
    }
   ],
   "source": [
    "_my_variable = 10  # Declaring a variable named '_my_variable' with value 10\n",
    "\n",
    "print(_my_variable)  # Output: 10"
   ]
  },
  {
   "cell_type": "markdown",
   "id": "25383bb6-42cf-44a9-a44d-326f817c5373",
   "metadata": {},
   "source": [
    "Q5. Using an example, explain how the variables in python are dynamic in nature."
   ]
  },
  {
   "cell_type": "code",
   "execution_count": 6,
   "id": "134e7f62-bc11-4bf6-9064-2d74f24345ef",
   "metadata": {},
   "outputs": [
    {
     "name": "stdout",
     "output_type": "stream",
     "text": [
      "x is an integer: True\n",
      "x is now a string: True\n"
     ]
    }
   ],
   "source": [
    "# Initially, the variable 'x' is assigned an integer value\n",
    "x = 10\n",
    "\n",
    "print(\"x is an integer:\", type(x) == int)  # Output: True\n",
    "\n",
    "# Later in the program, we can reassign a string value to 'x'\n",
    "x = \"Hello, Sudhir\"\n",
    "\n",
    "print(\"x is now a string:\", type(x) == str)  # Output: True\n"
   ]
  },
  {
   "cell_type": "code",
   "execution_count": null,
   "id": "fa622567-6522-41ca-8aca-1078e2740e1c",
   "metadata": {},
   "outputs": [],
   "source": []
  }
 ],
 "metadata": {
  "kernelspec": {
   "display_name": "Python 3 (ipykernel)",
   "language": "python",
   "name": "python3"
  },
  "language_info": {
   "codemirror_mode": {
    "name": "ipython",
    "version": 3
   },
   "file_extension": ".py",
   "mimetype": "text/x-python",
   "name": "python",
   "nbconvert_exporter": "python",
   "pygments_lexer": "ipython3",
   "version": "3.10.8"
  }
 },
 "nbformat": 4,
 "nbformat_minor": 5
}
